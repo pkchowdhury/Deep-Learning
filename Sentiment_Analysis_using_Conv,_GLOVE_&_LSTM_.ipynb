{
  "nbformat": 4,
  "nbformat_minor": 0,
  "metadata": {
    "accelerator": "GPU",
    "colab": {
      "name": "Sentiment Analysis using Conv, GLOVE & LSTM .ipynb",
      "provenance": [],
      "toc_visible": true,
      "include_colab_link": true
    },
    "kernelspec": {
      "display_name": "Python 3",
      "name": "python3"
    }
  },
  "cells": [
    {
      "cell_type": "markdown",
      "metadata": {
        "id": "view-in-github",
        "colab_type": "text"
      },
      "source": [
        "<a href=\"https://colab.research.google.com/github/pkchowdhury/Tensorflow/blob/master/Sentiment_Analysis_using_Conv%2C_GLOVE_%26_LSTM_.ipynb\" target=\"_parent\"><img src=\"https://colab.research.google.com/assets/colab-badge.svg\" alt=\"Open In Colab\"/></a>"
      ]
    },
    {
      "cell_type": "code",
      "metadata": {
        "id": "hmA6EzkQJ5jt"
      },
      "source": [
        "import json\n",
        "import tensorflow as tf\n",
        "import csv\n",
        "import random\n",
        "import numpy as np\n",
        "\n",
        "from tensorflow.keras.preprocessing.text import Tokenizer\n",
        "from tensorflow.keras.preprocessing.sequence import pad_sequences\n",
        "from tensorflow.keras.utils import to_categorical\n",
        "from tensorflow.keras import regularizers\n",
        "\n",
        "\n",
        "embedding_dim = 100\n",
        "max_length = 16\n",
        "trunc_type='post'\n",
        "padding_type='post'\n",
        "oov_tok = \"<OOV>\"\n",
        "training_size=160000 #Your dataset size here. Experiment using smaller values (i.e. 16000), but don't forget to train on at least 160000 to see the best effects\n",
        "test_portion=.1\n",
        "\n",
        "corpus = []\n"
      ],
      "execution_count": null,
      "outputs": []
    },
    {
      "cell_type": "code",
      "metadata": {
        "id": "bM0l_dORKqE0",
        "outputId": "5269d74e-4d28-4f32-8a0b-a52bf442b56a",
        "colab": {
          "base_uri": "https://localhost:8080/",
          "height": 204
        }
      },
      "source": [
        "# Note that Stanford dataset was cleaned up to remove LATIN1 encoding to make it easier for Python CSV reader\n",
        "# You can do that yourself with:\n",
        "# iconv -f LATIN1 -t UTF8 training.1600000.processed.noemoticon.csv -o training_cleaned.csv\n",
        "# It was hosted on a site to make it easier to use in this notebook\n",
        "\n",
        "!wget --no-check-certificate \\\n",
        "    https://storage.googleapis.com/laurencemoroney-blog.appspot.com/training_cleaned.csv \\\n",
        "    -O /tmp/training_cleaned.csv\n",
        "\n",
        "num_sentences = 0\n",
        "\n",
        "with open(\"/tmp/training_cleaned.csv\") as csvfile:\n",
        "    reader = csv.reader(csvfile, delimiter=',')\n",
        "    for row in reader:\n",
        "      # Create list items where the first item is the text, found in row[5], and the second is the label. Note that the label is a '0' or a '4' in the text. When it's the former, make\n",
        "      # your label to be 0, otherwise 1. Keep a count of the number of sentences in num_sentences\n",
        "\n",
        "        list_item=[]\n",
        "        list_item.append(row[5])\n",
        "        this_label = row[0]\n",
        "        if this_label == '0':\n",
        "          list_item.append(0)\n",
        "        else:\n",
        "          list_item.append(1)\n",
        "        \n",
        "        num_sentences = num_sentences + 1\n",
        "        corpus.append(list_item)\n"
      ],
      "execution_count": null,
      "outputs": [
        {
          "output_type": "stream",
          "text": [
            "--2020-10-13 16:18:27--  https://storage.googleapis.com/laurencemoroney-blog.appspot.com/training_cleaned.csv\n",
            "Resolving storage.googleapis.com (storage.googleapis.com)... 74.125.197.128, 74.125.28.128, 74.125.142.128, ...\n",
            "Connecting to storage.googleapis.com (storage.googleapis.com)|74.125.197.128|:443... connected.\n",
            "HTTP request sent, awaiting response... 200 OK\n",
            "Length: 238942690 (228M) [application/octet-stream]\n",
            "Saving to: ‘/tmp/training_cleaned.csv’\n",
            "\n",
            "/tmp/training_clean 100%[===================>] 227.87M   139MB/s    in 1.6s    \n",
            "\n",
            "2020-10-13 16:18:29 (139 MB/s) - ‘/tmp/training_cleaned.csv’ saved [238942690/238942690]\n",
            "\n"
          ],
          "name": "stdout"
        }
      ]
    },
    {
      "cell_type": "code",
      "metadata": {
        "id": "3kxblBUjEUX-",
        "outputId": "92426021-a4a4-4fc9-e354-08109797a871",
        "colab": {
          "base_uri": "https://localhost:8080/",
          "height": 68
        }
      },
      "source": [
        "print(num_sentences)\n",
        "print(len(corpus))\n",
        "print(corpus[1])\n",
        "\n"
      ],
      "execution_count": null,
      "outputs": [
        {
          "output_type": "stream",
          "text": [
            "1600000\n",
            "1600000\n",
            "[\"is upset that he can't update his Facebook by texting it... and might cry as a result  School today also. Blah!\", 0]\n"
          ],
          "name": "stdout"
        }
      ]
    },
    {
      "cell_type": "code",
      "metadata": {
        "id": "ohOGz24lsNAD"
      },
      "source": [
        "sentences=[]\n",
        "labels=[]\n",
        "random.shuffle(corpus)\n",
        "for x in range(training_size):\n",
        "    sentences.append(corpus[x][0]) \n",
        "    labels.append(corpus[x][1]) \n",
        "\n",
        "\n",
        "tokenizer = Tokenizer()\n",
        "tokenizer.fit_on_texts(sentences) \n",
        "\n",
        "word_index = tokenizer.word_index\n",
        "vocab_size=len(word_index) \n",
        "\n",
        "sequences = tokenizer.texts_to_sequences(sentences) \n",
        "padded = pad_sequences(sequences, maxlen= max_length, padding= padding_type, truncating= trunc_type) \n",
        "\n",
        "split = int(test_portion * training_size)\n",
        "\n",
        "test_sequences = padded[0: split]\n",
        "training_sequences = padded[split: training_size] \n",
        "test_labels = labels[0: split]\n",
        "training_labels = labels[split: training_size] "
      ],
      "execution_count": null,
      "outputs": []
    },
    {
      "cell_type": "code",
      "metadata": {
        "id": "gIrtRem1En3N",
        "outputId": "2f56fa08-95fb-4f55-9f29-357efc605b13",
        "colab": {
          "base_uri": "https://localhost:8080/",
          "height": 51
        }
      },
      "source": [
        "print(vocab_size)\n",
        "print(word_index['i'])\n"
      ],
      "execution_count": null,
      "outputs": [
        {
          "output_type": "stream",
          "text": [
            "138858\n",
            "1\n"
          ],
          "name": "stdout"
        }
      ]
    },
    {
      "cell_type": "code",
      "metadata": {
        "id": "C1zdgJkusRh0",
        "outputId": "d6ae004b-e21b-4e07-8504-578958b941cb",
        "colab": {
          "base_uri": "https://localhost:8080/",
          "height": 204
        }
      },
      "source": [
        "# Note this is the 100 dimension version of GloVe from Stanford\n",
        "# It was unzipped and hosted on a  site to make this notebook easier\n",
        "!wget --no-check-certificate \\\n",
        "    https://storage.googleapis.com/laurencemoroney-blog.appspot.com/glove.6B.100d.txt \\\n",
        "    -O /tmp/glove.6B.100d.txt\n",
        "embeddings_index = {};\n",
        "with open('/tmp/glove.6B.100d.txt') as f:\n",
        "    for line in f:\n",
        "        values = line.split();\n",
        "        word = values[0];\n",
        "        coefs = np.asarray(values[1:], dtype='float32');\n",
        "        embeddings_index[word] = coefs;\n",
        "\n",
        "embeddings_matrix = np.zeros((vocab_size+1, embedding_dim));\n",
        "for word, i in word_index.items():\n",
        "    embedding_vector = embeddings_index.get(word);\n",
        "    if embedding_vector is not None:\n",
        "        embeddings_matrix[i] = embedding_vector;"
      ],
      "execution_count": null,
      "outputs": [
        {
          "output_type": "stream",
          "text": [
            "--2020-10-13 16:19:00--  https://storage.googleapis.com/laurencemoroney-blog.appspot.com/glove.6B.100d.txt\n",
            "Resolving storage.googleapis.com (storage.googleapis.com)... 74.125.28.128, 74.125.142.128, 74.125.20.128, ...\n",
            "Connecting to storage.googleapis.com (storage.googleapis.com)|74.125.28.128|:443... connected.\n",
            "HTTP request sent, awaiting response... 200 OK\n",
            "Length: 347116733 (331M) [text/plain]\n",
            "Saving to: ‘/tmp/glove.6B.100d.txt’\n",
            "\n",
            "/tmp/glove.6B.100d. 100%[===================>] 331.04M   136MB/s    in 2.4s    \n",
            "\n",
            "2020-10-13 16:19:03 (136 MB/s) - ‘/tmp/glove.6B.100d.txt’ saved [347116733/347116733]\n",
            "\n"
          ],
          "name": "stdout"
        }
      ]
    },
    {
      "cell_type": "code",
      "metadata": {
        "id": "71NLk_lpFLNt",
        "outputId": "516bb636-6aa0-4360-bec7-231a89860d25",
        "colab": {
          "base_uri": "https://localhost:8080/",
          "height": 34
        }
      },
      "source": [
        "print(len(embeddings_matrix))\n"
      ],
      "execution_count": null,
      "outputs": [
        {
          "output_type": "stream",
          "text": [
            "138859\n"
          ],
          "name": "stdout"
        }
      ]
    },
    {
      "cell_type": "code",
      "metadata": {
        "id": "iKKvbuEBOGFz",
        "outputId": "324c2f6e-8708-47d3-af9e-b00d939c9214",
        "colab": {
          "base_uri": "https://localhost:8080/",
          "height": 1000
        }
      },
      "source": [
        "model = tf.keras.Sequential([\n",
        "    tf.keras.layers.Embedding(vocab_size+1, embedding_dim, input_length=max_length, weights=[embeddings_matrix], trainable=False),\n",
        "    # experiment with combining different types, such as convolutions and LSTMs\n",
        "    tf.keras.layers.Dropout(0.2),\n",
        "    tf.keras.layers.Conv1D(64, 5, activation='relu'),\n",
        "    tf.keras.layers.MaxPooling1D(pool_size=4),\n",
        "    tf.keras.layers.LSTM(64),\n",
        "    tf.keras.layers.Dense(1, activation='sigmoid')\n",
        "])\n",
        "model.compile(loss='binary_crossentropy',optimizer='adam',metrics=['accuracy']) \n",
        "model.summary()\n",
        "\n",
        "num_epochs = 50\n",
        "\n",
        "training_padded = np.array(training_sequences)\n",
        "training_labels = np.array(training_labels)\n",
        "testing_padded = np.array(test_sequences)\n",
        "testing_labels = np.array(test_labels)\n",
        "history = model.fit(training_padded, training_labels, epochs=num_epochs, validation_data=(testing_padded, testing_labels), verbose=2)\n",
        "\n",
        "print(\"Training Complete\")\n"
      ],
      "execution_count": null,
      "outputs": [
        {
          "output_type": "stream",
          "text": [
            "Model: \"sequential_5\"\n",
            "_________________________________________________________________\n",
            "Layer (type)                 Output Shape              Param #   \n",
            "=================================================================\n",
            "embedding_5 (Embedding)      (None, 16, 100)           13885900  \n",
            "_________________________________________________________________\n",
            "dropout_5 (Dropout)          (None, 16, 100)           0         \n",
            "_________________________________________________________________\n",
            "conv1d_5 (Conv1D)            (None, 12, 64)            32064     \n",
            "_________________________________________________________________\n",
            "max_pooling1d_5 (MaxPooling1 (None, 3, 64)             0         \n",
            "_________________________________________________________________\n",
            "lstm_5 (LSTM)                (None, 64)                33024     \n",
            "_________________________________________________________________\n",
            "dense_5 (Dense)              (None, 1)                 65        \n",
            "=================================================================\n",
            "Total params: 13,951,053\n",
            "Trainable params: 65,153\n",
            "Non-trainable params: 13,885,900\n",
            "_________________________________________________________________\n",
            "Epoch 1/50\n",
            "4500/4500 - 15s - loss: 0.5665 - accuracy: 0.6998 - val_loss: 0.5363 - val_accuracy: 0.7259\n",
            "Epoch 2/50\n",
            "4500/4500 - 14s - loss: 0.5251 - accuracy: 0.7337 - val_loss: 0.5062 - val_accuracy: 0.7476\n",
            "Epoch 3/50\n",
            "4500/4500 - 14s - loss: 0.5099 - accuracy: 0.7455 - val_loss: 0.5099 - val_accuracy: 0.7415\n",
            "Epoch 4/50\n",
            "4500/4500 - 14s - loss: 0.4991 - accuracy: 0.7528 - val_loss: 0.5040 - val_accuracy: 0.7501\n",
            "Epoch 5/50\n",
            "4500/4500 - 14s - loss: 0.4910 - accuracy: 0.7590 - val_loss: 0.4995 - val_accuracy: 0.7502\n",
            "Epoch 6/50\n",
            "4500/4500 - 14s - loss: 0.4846 - accuracy: 0.7626 - val_loss: 0.4981 - val_accuracy: 0.7555\n",
            "Epoch 7/50\n",
            "4500/4500 - 14s - loss: 0.4780 - accuracy: 0.7667 - val_loss: 0.4957 - val_accuracy: 0.7546\n",
            "Epoch 8/50\n",
            "4500/4500 - 14s - loss: 0.4731 - accuracy: 0.7698 - val_loss: 0.5046 - val_accuracy: 0.7536\n",
            "Epoch 9/50\n",
            "4500/4500 - 15s - loss: 0.4690 - accuracy: 0.7722 - val_loss: 0.5015 - val_accuracy: 0.7527\n",
            "Epoch 10/50\n",
            "4500/4500 - 14s - loss: 0.4644 - accuracy: 0.7756 - val_loss: 0.4969 - val_accuracy: 0.7586\n",
            "Epoch 11/50\n",
            "4500/4500 - 14s - loss: 0.4618 - accuracy: 0.7765 - val_loss: 0.5016 - val_accuracy: 0.7531\n",
            "Epoch 12/50\n",
            "4500/4500 - 15s - loss: 0.4589 - accuracy: 0.7782 - val_loss: 0.4982 - val_accuracy: 0.7593\n",
            "Epoch 13/50\n",
            "4500/4500 - 14s - loss: 0.4562 - accuracy: 0.7807 - val_loss: 0.5012 - val_accuracy: 0.7567\n",
            "Epoch 14/50\n",
            "4500/4500 - 14s - loss: 0.4543 - accuracy: 0.7811 - val_loss: 0.5017 - val_accuracy: 0.7562\n",
            "Epoch 15/50\n",
            "4500/4500 - 14s - loss: 0.4519 - accuracy: 0.7821 - val_loss: 0.5042 - val_accuracy: 0.7536\n",
            "Epoch 16/50\n",
            "4500/4500 - 15s - loss: 0.4500 - accuracy: 0.7837 - val_loss: 0.5046 - val_accuracy: 0.7554\n",
            "Epoch 17/50\n",
            "4500/4500 - 14s - loss: 0.4483 - accuracy: 0.7841 - val_loss: 0.5051 - val_accuracy: 0.7564\n",
            "Epoch 18/50\n",
            "4500/4500 - 15s - loss: 0.4464 - accuracy: 0.7844 - val_loss: 0.5052 - val_accuracy: 0.7544\n",
            "Epoch 19/50\n",
            "4500/4500 - 15s - loss: 0.4451 - accuracy: 0.7856 - val_loss: 0.5048 - val_accuracy: 0.7547\n",
            "Epoch 20/50\n",
            "4500/4500 - 14s - loss: 0.4434 - accuracy: 0.7878 - val_loss: 0.5089 - val_accuracy: 0.7548\n",
            "Epoch 21/50\n",
            "4500/4500 - 14s - loss: 0.4423 - accuracy: 0.7876 - val_loss: 0.5145 - val_accuracy: 0.7546\n",
            "Epoch 22/50\n",
            "4500/4500 - 14s - loss: 0.4395 - accuracy: 0.7911 - val_loss: 0.5134 - val_accuracy: 0.7550\n",
            "Epoch 23/50\n",
            "4500/4500 - 14s - loss: 0.4412 - accuracy: 0.7883 - val_loss: 0.5041 - val_accuracy: 0.7574\n",
            "Epoch 24/50\n",
            "4500/4500 - 14s - loss: 0.4400 - accuracy: 0.7910 - val_loss: 0.5088 - val_accuracy: 0.7575\n",
            "Epoch 25/50\n",
            "4500/4500 - 14s - loss: 0.4373 - accuracy: 0.7904 - val_loss: 0.5129 - val_accuracy: 0.7540\n",
            "Epoch 26/50\n",
            "4500/4500 - 15s - loss: 0.4366 - accuracy: 0.7909 - val_loss: 0.5153 - val_accuracy: 0.7521\n",
            "Epoch 27/50\n",
            "4500/4500 - 15s - loss: 0.4375 - accuracy: 0.7907 - val_loss: 0.5132 - val_accuracy: 0.7552\n",
            "Epoch 28/50\n",
            "4500/4500 - 14s - loss: 0.4360 - accuracy: 0.7915 - val_loss: 0.5125 - val_accuracy: 0.7544\n",
            "Epoch 29/50\n",
            "4500/4500 - 14s - loss: 0.4356 - accuracy: 0.7910 - val_loss: 0.5202 - val_accuracy: 0.7517\n",
            "Epoch 30/50\n",
            "4500/4500 - 14s - loss: 0.4345 - accuracy: 0.7932 - val_loss: 0.5131 - val_accuracy: 0.7515\n",
            "Epoch 31/50\n",
            "4500/4500 - 14s - loss: 0.4348 - accuracy: 0.7936 - val_loss: 0.5174 - val_accuracy: 0.7526\n",
            "Epoch 32/50\n",
            "4500/4500 - 14s - loss: 0.4348 - accuracy: 0.7926 - val_loss: 0.5203 - val_accuracy: 0.7551\n",
            "Epoch 33/50\n",
            "4500/4500 - 15s - loss: 0.4343 - accuracy: 0.7921 - val_loss: 0.5124 - val_accuracy: 0.7524\n",
            "Epoch 34/50\n",
            "4500/4500 - 14s - loss: 0.4325 - accuracy: 0.7934 - val_loss: 0.5160 - val_accuracy: 0.7588\n",
            "Epoch 35/50\n",
            "4500/4500 - 14s - loss: 0.4303 - accuracy: 0.7951 - val_loss: 0.5116 - val_accuracy: 0.7538\n",
            "Epoch 36/50\n",
            "4500/4500 - 14s - loss: 0.4316 - accuracy: 0.7950 - val_loss: 0.5207 - val_accuracy: 0.7552\n",
            "Epoch 37/50\n",
            "4500/4500 - 14s - loss: 0.4308 - accuracy: 0.7944 - val_loss: 0.5175 - val_accuracy: 0.7552\n",
            "Epoch 38/50\n",
            "4500/4500 - 14s - loss: 0.4320 - accuracy: 0.7956 - val_loss: 0.5160 - val_accuracy: 0.7554\n",
            "Epoch 39/50\n",
            "4500/4500 - 14s - loss: 0.4320 - accuracy: 0.7944 - val_loss: 0.5138 - val_accuracy: 0.7540\n",
            "Epoch 40/50\n",
            "4500/4500 - 15s - loss: 0.4311 - accuracy: 0.7949 - val_loss: 0.5151 - val_accuracy: 0.7523\n",
            "Epoch 41/50\n",
            "4500/4500 - 14s - loss: 0.4308 - accuracy: 0.7961 - val_loss: 0.5185 - val_accuracy: 0.7534\n",
            "Epoch 42/50\n",
            "4500/4500 - 15s - loss: 0.4306 - accuracy: 0.7960 - val_loss: 0.5176 - val_accuracy: 0.7562\n",
            "Epoch 43/50\n",
            "4500/4500 - 14s - loss: 0.4303 - accuracy: 0.7956 - val_loss: 0.5144 - val_accuracy: 0.7544\n",
            "Epoch 44/50\n",
            "4500/4500 - 14s - loss: 0.4280 - accuracy: 0.7961 - val_loss: 0.5177 - val_accuracy: 0.7495\n",
            "Epoch 45/50\n",
            "4500/4500 - 14s - loss: 0.4306 - accuracy: 0.7952 - val_loss: 0.5215 - val_accuracy: 0.7514\n",
            "Epoch 46/50\n",
            "4500/4500 - 14s - loss: 0.4288 - accuracy: 0.7961 - val_loss: 0.5157 - val_accuracy: 0.7544\n",
            "Epoch 47/50\n",
            "4500/4500 - 14s - loss: 0.4291 - accuracy: 0.7964 - val_loss: 0.5196 - val_accuracy: 0.7499\n",
            "Epoch 48/50\n",
            "4500/4500 - 14s - loss: 0.4296 - accuracy: 0.7953 - val_loss: 0.5194 - val_accuracy: 0.7538\n",
            "Epoch 49/50\n",
            "4500/4500 - 14s - loss: 0.4277 - accuracy: 0.7968 - val_loss: 0.5178 - val_accuracy: 0.7533\n",
            "Epoch 50/50\n",
            "4500/4500 - 14s - loss: 0.4289 - accuracy: 0.7959 - val_loss: 0.5207 - val_accuracy: 0.7539\n",
            "Training Complete\n"
          ],
          "name": "stdout"
        }
      ]
    },
    {
      "cell_type": "code",
      "metadata": {
        "id": "qxju4ItJKO8F",
        "outputId": "9fc92fb3-f005-4d80-cf75-6e0edf048fc5",
        "colab": {
          "base_uri": "https://localhost:8080/",
          "height": 607
        }
      },
      "source": [
        "import matplotlib.image  as mpimg\n",
        "import matplotlib.pyplot as plt\n",
        "\n",
        "#-----------------------------------------------------------\n",
        "# Retrieve a list of list results on training and test data\n",
        "# sets for each training epoch\n",
        "#-----------------------------------------------------------\n",
        "acc=history.history['accuracy']\n",
        "val_acc=history.history['val_accuracy']\n",
        "loss=history.history['loss']\n",
        "val_loss=history.history['val_loss']\n",
        "\n",
        "epochs=range(len(acc)) # Get number of epochs\n",
        "\n",
        "#------------------------------------------------\n",
        "# Plot training and validation accuracy per epoch\n",
        "#------------------------------------------------\n",
        "plt.plot(epochs, acc, 'r')\n",
        "plt.plot(epochs, val_acc, 'b')\n",
        "plt.title('Training and validation accuracy')\n",
        "plt.xlabel(\"Epochs\")\n",
        "plt.ylabel(\"Accuracy\")\n",
        "plt.legend([\"Accuracy\", \"Validation Accuracy\"])\n",
        "\n",
        "plt.figure()\n",
        "\n",
        "#------------------------------------------------\n",
        "# Plot training and validation loss per epoch\n",
        "#------------------------------------------------\n",
        "plt.plot(epochs, loss, 'r')\n",
        "plt.plot(epochs, val_loss, 'b')\n",
        "plt.title('Training and validation loss')\n",
        "plt.xlabel(\"Epochs\")\n",
        "plt.ylabel(\"Loss\")\n",
        "plt.legend([\"Loss\", \"Validation Loss\"])\n",
        "\n",
        "plt.figure()\n",
        "\n",
        "\n",
        "# Expected Output\n",
        "# A chart where the validation loss does not increase sharply!"
      ],
      "execution_count": null,
      "outputs": [
        {
          "output_type": "execute_result",
          "data": {
            "text/plain": [
              "<Figure size 432x288 with 0 Axes>"
            ]
          },
          "metadata": {
            "tags": []
          },
          "execution_count": 23
        },
        {
          "output_type": "display_data",
          "data": {
            "image/png": "[encoded data removed]",
            "text/plain": [
              "<Figure size 432x288 with 1 Axes>"
            ]
          },
          "metadata": {
            "tags": [],
            "needs_background": "light"
          }
        },
        {
          "output_type": "display_data",
          "data": {
            "image/png": "[encoded data removed]",
            "text/plain": [
              "<Figure size 432x288 with 1 Axes>"
            ]
          },
          "metadata": {
            "tags": [],
            "needs_background": "light"
          }
        },
        {
          "output_type": "display_data",
          "data": {
            "text/plain": [
              "<Figure size 432x288 with 0 Axes>"
            ]
          },
          "metadata": {
            "tags": []
          }
        }
      ]
    }
  ]
}